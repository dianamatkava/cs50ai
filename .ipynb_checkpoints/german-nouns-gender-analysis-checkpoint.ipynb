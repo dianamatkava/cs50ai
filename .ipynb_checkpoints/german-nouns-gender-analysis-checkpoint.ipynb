{
 "cells": [
  {
   "cell_type": "markdown",
   "metadata": {},
   "source": [
    "<h1>german nouns: gender analysis</h1>\n",
    "\n",
    "i started to learn german and it is kind of difficult for me to remember noun genders since they don't match with ones in my native language. i decided to make some eda over german nouns to find patterns that would help me choose correct article without learning all the words or searching in dictionary.\n",
    "\n",
    "<h3>pair words about dataset</h3>\n",
    "\n",
    "i used a dataset from [dict.cc](https://www1.dict.cc/translation_file_request.php) and made little preprocessing. i cannot publish origin (and even derived) dataset here due to copyrights but you can request your own copy of data to reproduce my results (or for another needs).\n",
    "\n",
    "i also want to note [this (not mine) project](https://github.com/aabouzaid/german-nouns-gender-analyzer) on github from which i found out about the site and got bash script to rapidly extract nouns."
   ]
  },
  {
   "cell_type": "markdown",
   "metadata": {},
   "source": [
    "<h3>here we go: eda</h3>"
   ]
  },
  {
   "cell_type": "code",
   "execution_count": 1,
   "metadata": {
    "_cell_guid": "b1076dfc-b9ad-4769-8c92-a6c4dae69d19",
    "_uuid": "8f2839f25d086af736a60e9eeb907d3b93b6e0e5"
   },
   "outputs": [
    {
     "data": {
      "text/html": [
       "<div>\n",
       "<style scoped>\n",
       "    .dataframe tbody tr th:only-of-type {\n",
       "        vertical-align: middle;\n",
       "    }\n",
       "\n",
       "    .dataframe tbody tr th {\n",
       "        vertical-align: top;\n",
       "    }\n",
       "\n",
       "    .dataframe thead th {\n",
       "        text-align: right;\n",
       "    }\n",
       "</style>\n",
       "<table border=\"1\" class=\"dataframe\">\n",
       "  <thead>\n",
       "    <tr style=\"text-align: right;\">\n",
       "      <th></th>\n",
       "      <th>word</th>\n",
       "      <th>gender</th>\n",
       "    </tr>\n",
       "  </thead>\n",
       "  <tbody>\n",
       "    <tr>\n",
       "      <th>181747</th>\n",
       "      <td>Kreon</td>\n",
       "      <td>m</td>\n",
       "    </tr>\n",
       "    <tr>\n",
       "      <th>10826</th>\n",
       "      <td>Amidgruppe</td>\n",
       "      <td>f</td>\n",
       "    </tr>\n",
       "    <tr>\n",
       "      <th>248372</th>\n",
       "      <td>Pionierregiment</td>\n",
       "      <td>n</td>\n",
       "    </tr>\n",
       "    <tr>\n",
       "      <th>140474</th>\n",
       "      <td>Helikoide</td>\n",
       "      <td>f</td>\n",
       "    </tr>\n",
       "    <tr>\n",
       "      <th>152750</th>\n",
       "      <td>Infoabend</td>\n",
       "      <td>m</td>\n",
       "    </tr>\n",
       "    <tr>\n",
       "      <th>...</th>\n",
       "      <td>...</td>\n",
       "      <td>...</td>\n",
       "    </tr>\n",
       "    <tr>\n",
       "      <th>310050</th>\n",
       "      <td>Sperrschrift</td>\n",
       "      <td>f</td>\n",
       "    </tr>\n",
       "    <tr>\n",
       "      <th>331137</th>\n",
       "      <td>Teilnehmer</td>\n",
       "      <td>m</td>\n",
       "    </tr>\n",
       "    <tr>\n",
       "      <th>295676</th>\n",
       "      <td>Schwarzstirnducker</td>\n",
       "      <td>m</td>\n",
       "    </tr>\n",
       "    <tr>\n",
       "      <th>353369</th>\n",
       "      <td>Vergnügungswilliger</td>\n",
       "      <td>m</td>\n",
       "    </tr>\n",
       "    <tr>\n",
       "      <th>281835</th>\n",
       "      <td>Santa-Marta-Elfe</td>\n",
       "      <td>f</td>\n",
       "    </tr>\n",
       "  </tbody>\n",
       "</table>\n",
       "<p>387514 rows × 2 columns</p>\n",
       "</div>"
      ],
      "text/plain": [
       "                       word gender\n",
       "181747                Kreon      m\n",
       "10826            Amidgruppe      f\n",
       "248372      Pionierregiment      n\n",
       "140474            Helikoide      f\n",
       "152750            Infoabend      m\n",
       "...                     ...    ...\n",
       "310050         Sperrschrift      f\n",
       "331137           Teilnehmer      m\n",
       "295676   Schwarzstirnducker      m\n",
       "353369  Vergnügungswilliger      m\n",
       "281835     Santa-Marta-Elfe      f\n",
       "\n",
       "[387514 rows x 2 columns]"
      ]
     },
     "execution_count": 1,
     "metadata": {},
     "output_type": "execute_result"
    }
   ],
   "source": [
    "import numpy as np\n",
    "import pandas as pd\n",
    "import os\n",
    "from matplotlib import pyplot as plt\n",
    "import seaborn as sns\n",
    "\n",
    "file_name = '/kaggle/input/german-words-genders/deutsch.csv'\n",
    "\n",
    "data = pd.read_csv(file_name)\n",
    "data.sample(frac=1)"
   ]
  },
  {
   "cell_type": "markdown",
   "metadata": {},
   "source": [
    "i know that there are no nans but let's check"
   ]
  },
  {
   "cell_type": "code",
   "execution_count": 2,
   "metadata": {},
   "outputs": [
    {
     "data": {
      "text/plain": [
       "word      0\n",
       "gender    0\n",
       "dtype: int64"
      ]
     },
     "execution_count": 2,
     "metadata": {},
     "output_type": "execute_result"
    }
   ],
   "source": [
    "data.isna().sum()"
   ]
  },
  {
   "cell_type": "markdown",
   "metadata": {},
   "source": [
    "now i'm going to extract `masculine`, `feminine` and `neutral` into separated boolean features and compare their frequencies. for achieving this i perform one-hot encoding. this is also useful for future work."
   ]
  },
  {
   "cell_type": "code",
   "execution_count": 3,
   "metadata": {
    "_cell_guid": "79c7e3d0-c299-4dcb-8224-4455121ee9b0",
    "_uuid": "d629ff2d2480ee46fbb7e2d37f6b5fab8052498a"
   },
   "outputs": [
    {
     "data": {
      "text/plain": [
       "Index(['word', 'f', 'm', 'n'], dtype='object')"
      ]
     },
     "execution_count": 3,
     "metadata": {},
     "output_type": "execute_result"
    }
   ],
   "source": [
    "ohe = pd.get_dummies(data['gender'])\n",
    "data = pd.concat([data, ohe], axis=1)\n",
    "data.drop(columns=['gender'], inplace=True)\n",
    "\n",
    "data.columns"
   ]
  },
  {
   "cell_type": "code",
   "execution_count": 4,
   "metadata": {},
   "outputs": [
    {
     "data": {
      "image/png": "[encoded data removed]",
      "text/plain": [
       "<Figure size 432x432 with 1 Axes>"
      ]
     },
     "metadata": {},
     "output_type": "display_data"
    }
   ],
   "source": [
    "masc_cnt = data['m'].sum()\n",
    "fem_cnt = data['f'].sum()\n",
    "neut_cnt = data['n'].sum()\n",
    "\n",
    "plt.figure(1, figsize=(6, 6))\n",
    "plt.pie([masc_cnt, fem_cnt, neut_cnt], labels=['masculine', 'feminine', 'neutral'], autopct='%.1f%%')\n",
    "plt.show()"
   ]
  },
  {
   "cell_type": "markdown",
   "metadata": {},
   "source": [
    "okay, we have a classification problem with 3 imbalanced classes. i use **accuracy** because it is not necessary to respect minorities but make as many as possible correct predictions.\n",
    "\n",
    "let's create `f1` function for converting ohe into flat array and returns desired score. then check scores for random guesser and dummy guesser."
   ]
  },
  {
   "cell_type": "code",
   "execution_count": 5,
   "metadata": {},
   "outputs": [
    {
     "name": "stdout",
     "output_type": "stream",
     "text": [
      "Dummy majority: score = 0.437\n",
      "Random guesser: score = 0.332\n"
     ]
    }
   ],
   "source": [
    "from sklearn.metrics import accuracy_score\n",
    "\n",
    "def acc(y_true_ohe, y_pred_ohe):\n",
    "    y_true = np.argmax(y_true_ohe, axis=1)\n",
    "    y_pred = np.argmax(y_pred_ohe, axis=1)\n",
    "    return accuracy_score(y_true, y_pred)\n",
    "\n",
    "dummy_pred = np.zeros((data.shape[0], 3))\n",
    "dummy_pred[:, 0] = 1\n",
    "print(f'Dummy majority: score = {acc(dummy_pred, data[[\"f\", \"m\", \"n\"]].to_numpy()):.3f}')\n",
    "\n",
    "guess_pred = np.zeros((data.shape[0], 3))\n",
    "for i in range(guess_pred.shape[0]):\n",
    "    pos = np.random.randint(3)\n",
    "    guess_pred[i, pos] = 1\n",
    "print(f'Random guesser: score = {acc(guess_pred, data[[\"f\", \"m\", \"n\"]].to_numpy()):.3f}')"
   ]
  },
  {
   "cell_type": "markdown",
   "metadata": {},
   "source": [
    "this is the minimal score that we want to receive from out machine learning model. now let's extract some useful features from german words and see if they are able to make right decision."
   ]
  },
  {
   "cell_type": "markdown",
   "metadata": {},
   "source": [
    "first of all i make words lower for handier processing"
   ]
  },
  {
   "cell_type": "code",
   "execution_count": 6,
   "metadata": {},
   "outputs": [
    {
     "data": {
      "text/plain": [
       "'blutfülle'"
      ]
     },
     "execution_count": 6,
     "metadata": {},
     "output_type": "execute_result"
    }
   ],
   "source": [
    "data['word'] = data['word'].apply(lambda word: word.lower())\n",
    "\n",
    "data['word'][np.random.randint(data.shape[0])]"
   ]
  },
  {
   "cell_type": "markdown",
   "metadata": {},
   "source": [
    "<h4>word length</h4>\n",
    "\n",
    "i want to check if there are any dependencies between word length and word gender. so i calculated a distribution of every gender for every existing word length  "
   ]
  },
  {
   "cell_type": "code",
   "execution_count": 7,
   "metadata": {},
   "outputs": [
    {
     "name": "stderr",
     "output_type": "stream",
     "text": [
      "/opt/conda/lib/python3.6/site-packages/ipykernel_launcher.py:17: RuntimeWarning: invalid value encountered in long_scalars\n",
      "/opt/conda/lib/python3.6/site-packages/ipykernel_launcher.py:18: RuntimeWarning: invalid value encountered in long_scalars\n",
      "/opt/conda/lib/python3.6/site-packages/ipykernel_launcher.py:19: RuntimeWarning: invalid value encountered in long_scalars\n"
     ]
    },
    {
     "data": {
      "image/png": "[encoded data removed]",
      "text/plain": [
       "<Figure size 1152x432 with 1 Axes>"
      ]
     },
     "metadata": {
      "needs_background": "light"
     },
     "output_type": "display_data"
    }
   ],
   "source": [
    "data['word_len'] = data['word'].apply(lambda word: len(word))\n",
    "\n",
    "min_len = data['word_len'].min()\n",
    "max_len = data['word_len'].max()\n",
    "lens = [i for i in range(min_len, max_len + 1)]\n",
    "\n",
    "masc_cnt_per_len = []\n",
    "fem_cnt_per_len = []\n",
    "neut_cnt_per_len = []\n",
    "total_cnt_per_len = []\n",
    "\n",
    "for word_len in lens:\n",
    "    d = data[data['word_len'] == word_len]\n",
    "    \n",
    "    total = d.shape[0]\n",
    "    total_cnt_per_len.append(total)\n",
    "    masc_cnt_per_len.append(d['m'].sum() / total)\n",
    "    fem_cnt_per_len.append(d['f'].sum() / total)\n",
    "    neut_cnt_per_len.append(d['n'].sum() / total)\n",
    "\n",
    "fig = plt.figure(1, figsize=(16, 6))\n",
    "ax = fig.add_axes([0, 0, 1, 1])\n",
    "ax.bar(lens, masc_cnt_per_len, 1, color='r')\n",
    "ax.bar(lens, fem_cnt_per_len, 1, bottom=masc_cnt_per_len, color='b')\n",
    "ax.bar(lens, neut_cnt_per_len, 1, bottom=[masc_cnt_per_len[i] + fem_cnt_per_len[i] for i in range(len(lens))], color='g')\n",
    "ax.set_ylabel('word lengths')\n",
    "ax.set_xticks(lens)\n",
    "ax.set_yticks([0, .2, .4, .6, .8, 1])\n",
    "ax.legend(labels=['masculine', 'feminine', 'neutral'])\n",
    "plt.legend()\n",
    "plt.show()"
   ]
  },
  {
   "cell_type": "markdown",
   "metadata": {},
   "source": [
    "we may see that shorter words gonna rather be masculin or neutral, and longer (up to 30) gonna rather be feminine. this could be helpful"
   ]
  },
  {
   "cell_type": "markdown",
   "metadata": {},
   "source": [
    "<h4>postfixes</h4>\n",
    "\n",
    "word postfixes may exactly point on the true gender of the word so i decided to extract the most frequent ones. postfix is called most frequent if there are more than 1000 words with it"
   ]
  },
  {
   "cell_type": "code",
   "execution_count": 8,
   "metadata": {},
   "outputs": [
    {
     "name": "stdout",
     "output_type": "stream",
     "text": [
      "['ß', 'x', 'p', 'b', 'u', 'o', 'i', 'a', 'f', 'z', 'k', 'h', 'd', 'm', 's', 'l', 'g', 'n', 't', 'r', 'e', 'rk', 'hn', 'nk', 'lt', 'pf', 'et', 'ar', 'ff', 'mm', 'rm', 'au', 'id', 'fe', 'rn', 'hr', 'il', 'ut', 'ei', 'ld', 'ug', 'hl', 'ag', 'me', 'an', 'ze', 'em', 'tt', 'll', 'om', 'nz', 'kt', 'pe', 'al', 'ss', 'rt', 're', 'at', 'ät', 'ur', 'ck', 'nt', 'tz', 'ke', 'ik', 'or', 'ft', 'he', 'is', 'ht', 'be', 'st', 'nd', 'de', 'ne', 'um', 'us', 'ge', 'le', 'se', 'ch', 'te', 'in', 'on', 'ie', 'el', 'it', 'en', 'ng', 'er', 'anz', 'ken', 'nik', 'bel', 'ode', 'eis', 'all', 'den', 'ist', 'lie', 'est', 'ahl', 'fen', 'kel', 'del', 'nis', 'hie', 'ube', 'rom', 'men', 'enz', 'mie', 'tin', 'ase', 'uss', 'nie', 'amm', 'ste', 'sse', 'ium', 'ier', 'ule', 'aum', 'nge', 'ine', 'ren', 'tik', 'ang', 'ber', 'rer', 'ppe', 'atz', 'nde', 'aus', 'ten', 'tem', 'ich', 'ose', 'gen', 'ein', 'sel', 'ser', 'tel', 'tur', 'rie', 'cke', 'mer', 'ker', 'tät', 'age', 'gie', 'mus', 'der', 'uch', 'ent', 'aft', 'fer', 'ner', 'tte', 'tor', 'her', 'gel', 'che', 'sch', 'ing', 'and', 'cht', 'ger', 'lle', 'ler', 'rin', 'hen', 'ter', 'eit', 'ion', 'ung', 'ramm', 'eich', 'nner', 'aube', 'atte', 'ecke', 'zeit', 'sion', 'bung', 'tter', 'satz', 'nder', 'kung', 'tand', 'nger', 'zung', 'sser', 'sung', 'mmer', 'lage', 'ogie', 'ling', 'ment', 'lter', 'stem', 'isch', 'icht', 'ster', 'haft', 'hung', 'smus', 'ität', 'cher', 'elle', 'heit', 'dung', 'nung', 'gung', 'erin', 'lung', 'chen', 'keit', 'tung', 'tion', 'rung', 'gramm', 'scher', 'llung', 'alter', 'stand', 'ndung', 'igung', 'htung', 'logie', 'chung', 'ystem', 'chaft', 'ktion', 'ismus', 'gkeit', 'ation', 'erung']\n"
     ]
    }
   ],
   "source": [
    "for i in range(5):\n",
    "    ln = i + 1\n",
    "    data[f'postfix_{ln}'] = data['word'].apply(lambda word: word[-ln:] if len(word) >= ln else word)\n",
    "\n",
    "postfix_freq_threshold = 1000\n",
    "\n",
    "frequent_postfixes = []\n",
    "for i in range(5):\n",
    "    postfixes, counts = np.unique(data[f'postfix_{i + 1}'], return_counts=True)\n",
    "    freq = np.argsort(counts)\n",
    "    counts = counts[freq]\n",
    "    postfixes = postfixes[freq]\n",
    "    counts = counts[counts > postfix_freq_threshold]\n",
    "    postfixes = postfixes[-counts.shape[0]:]\n",
    "    frequent_postfixes += list(postfixes)\n",
    "\n",
    "print(frequent_postfixes)"
   ]
  },
  {
   "cell_type": "markdown",
   "metadata": {},
   "source": [
    "now let's sort the most frequent postfix by maximum probability. this will help us to see postfixes with only one (or almost one) gender"
   ]
  },
  {
   "cell_type": "code",
   "execution_count": 9,
   "metadata": {},
   "outputs": [
    {
     "name": "stdout",
     "output_type": "stream",
     "text": [
      "ium: m: 0.000, f: 0.000, n: 1.000 -- 1417\n",
      "tät: m: 0.000, f: 1.000, n: 0.000 -- 2214\n",
      "ramm: m: 0.000, f: 0.000, n: 1.000 -- 1004\n",
      "bung: m: 0.000, f: 1.000, n: 0.000 -- 1086\n",
      "satz: m: 1.000, f: 0.000, n: 0.000 -- 1161\n",
      "zung: m: 0.000, f: 1.000, n: 0.000 -- 1286\n",
      "sung: m: 0.000, f: 1.000, n: 0.000 -- 1346\n",
      "stem: m: 0.000, f: 0.000, n: 1.000 -- 1690\n",
      "hung: m: 0.000, f: 1.000, n: 0.000 -- 1930\n",
      "ität: m: 0.000, f: 1.000, n: 0.000 -- 2182\n",
      "gramm: m: 0.000, f: 0.000, n: 1.000 -- 1004\n",
      "llung: m: 0.000, f: 1.000, n: 0.000 -- 1104\n",
      "ndung: m: 0.000, f: 1.000, n: 0.000 -- 1204\n",
      "igung: m: 0.000, f: 1.000, n: 0.000 -- 1223\n",
      "htung: m: 0.000, f: 1.000, n: 0.000 -- 1255\n",
      "logie: m: 0.000, f: 1.000, n: 0.000 -- 1458\n",
      "chung: m: 0.000, f: 1.000, n: 0.000 -- 1527\n",
      "ystem: m: 0.000, f: 0.000, n: 1.000 -- 1670\n",
      "ismus: m: 1.000, f: 0.000, n: 0.000 -- 2029\n",
      "gkeit: m: 0.000, f: 1.000, n: 0.000 -- 2948\n",
      "erung: m: 0.000, f: 1.000, n: 0.000 -- 6081\n",
      "gung: m: 0.000, f: 1.000, n: 0.000 -- 2859\n",
      "nung: m: 0.000, f: 1.000, n: 0.000 -- 2649\n",
      "gie: m: 0.000, f: 1.000, n: 0.000 -- 2265\n",
      "lung: m: 0.000, f: 1.000, n: 0.000 -- 4233\n",
      "ktion: m: 0.000, f: 0.999, n: 0.001 -- 1916\n",
      "tung: m: 0.001, f: 0.999, n: 0.000 -- 5341\n",
      "rer: m: 0.999, f: 0.001, n: 0.000 -- 1573\n",
      "ogie: m: 0.001, f: 0.999, n: 0.000 -- 1462\n",
      "mie: m: 0.001, f: 0.999, n: 0.000 -- 1261\n",
      "kung: m: 0.000, f: 0.999, n: 0.001 -- 1176\n",
      "smus: m: 0.999, f: 0.000, n: 0.001 -- 2086\n",
      "stand: m: 0.998, f: 0.000, n: 0.002 -- 1172\n",
      "aum: m: 0.998, f: 0.000, n: 0.002 -- 1458\n",
      "tand: m: 0.997, f: 0.000, n: 0.003 -- 1180\n",
      "hie: m: 0.003, f: 0.997, n: 0.000 -- 1179\n",
      "tion: m: 0.001, f: 0.997, n: 0.002 -- 7309\n",
      "dung: m: 0.003, f: 0.997, n: 0.000 -- 2597\n",
      "tem: m: 0.004, f: 0.000, n: 0.996 -- 1699\n",
      "ation: m: 0.001, f: 0.996, n: 0.003 -- 4327\n",
      "atz: m: 0.996, f: 0.003, n: 0.001 -- 1618\n",
      "pf: m: 0.996, f: 0.002, n: 0.003 -- 1182\n",
      "ecke: m: 0.005, f: 0.995, n: 0.000 -- 1059\n",
      "keit: m: 0.005, f: 0.995, n: 0.000 -- 4632\n",
      "scher: m: 0.995, f: 0.001, n: 0.004 -- 1034\n",
      "lie: m: 0.004, f: 0.995, n: 0.002 -- 1118\n",
      "ung: m: 0.005, f: 0.995, n: 0.000 -- 34437\n",
      "ler: m: 0.994, f: 0.001, n: 0.004 -- 4109\n",
      "zeit: m: 0.004, f: 0.994, n: 0.002 -- 1061\n",
      "lage: m: 0.000, f: 0.994, n: 0.006 -- 1388\n",
      "cher: m: 0.994, f: 0.001, n: 0.005 -- 2219\n",
      "sion: m: 0.001, f: 0.993, n: 0.006 -- 1067\n",
      "tur: m: 0.003, f: 0.993, n: 0.005 -- 1964\n",
      "cke: m: 0.006, f: 0.993, n: 0.001 -- 2026\n",
      "nger: m: 0.992, f: 0.002, n: 0.006 -- 1186\n",
      "rie: m: 0.007, f: 0.992, n: 0.001 -- 2017\n",
      "atte: m: 0.008, f: 0.991, n: 0.001 -- 1050\n",
      "elle: m: 0.008, f: 0.991, n: 0.001 -- 2224\n",
      "heit: m: 0.006, f: 0.991, n: 0.004 -- 2326\n",
      "ie: m: 0.006, f: 0.989, n: 0.005 -- 12600\n",
      "her: m: 0.988, f: 0.006, n: 0.005 -- 2736\n",
      "ose: m: 0.011, f: 0.988, n: 0.001 -- 1791\n",
      "mus: m: 0.988, f: 0.000, n: 0.011 -- 2279\n",
      "ker: m: 0.988, f: 0.002, n: 0.010 -- 2045\n",
      "ner: m: 0.988, f: 0.003, n: 0.010 -- 2519\n",
      "ppe: m: 0.005, f: 0.988, n: 0.007 -- 1602\n",
      "tik: m: 0.009, f: 0.987, n: 0.004 -- 1509\n",
      "tte: m: 0.008, f: 0.986, n: 0.006 -- 2625\n",
      "erin: m: 0.001, f: 0.985, n: 0.014 -- 3744\n",
      "ule: m: 0.003, f: 0.985, n: 0.012 -- 1444\n",
      "nik: m: 0.012, f: 0.984, n: 0.004 -- 1020\n",
      "nner: m: 0.983, f: 0.000, n: 0.017 -- 1025\n",
      "ag: m: 0.983, f: 0.002, n: 0.015 -- 2067\n",
      "enz: m: 0.007, f: 0.982, n: 0.011 -- 1257\n",
      "rung: m: 0.018, f: 0.981, n: 0.000 -- 7831\n",
      "em: m: 0.013, f: 0.008, n: 0.979 -- 2161\n",
      "ine: m: 0.008, f: 0.978, n: 0.013 -- 1484\n",
      "pe: m: 0.011, f: 0.978, n: 0.012 -- 2682\n",
      "age: m: 0.012, f: 0.977, n: 0.011 -- 2256\n",
      "ang: m: 0.976, f: 0.013, n: 0.012 -- 1516\n",
      "nie: m: 0.002, f: 0.974, n: 0.024 -- 1313\n",
      "ste: m: 0.007, f: 0.969, n: 0.024 -- 1353\n",
      "chaft: m: 0.034, f: 0.966, n: 0.001 -- 1872\n",
      "he: m: 0.016, f: 0.965, n: 0.019 -- 3810\n",
      "ion: m: 0.008, f: 0.964, n: 0.028 -- 9031\n",
      "aube: m: 0.036, f: 0.964, n: 0.000 -- 1028\n",
      "lle: m: 0.021, f: 0.963, n: 0.015 -- 3974\n",
      "eit: m: 0.035, f: 0.963, n: 0.002 -- 8661\n",
      "haft: m: 0.037, f: 0.963, n: 0.001 -- 1909\n",
      "ik: m: 0.028, f: 0.962, n: 0.010 -- 3508\n",
      "ne: m: 0.023, f: 0.961, n: 0.016 -- 4956\n",
      "nder: m: 0.961, f: 0.005, n: 0.034 -- 1168\n",
      "che: m: 0.018, f: 0.958, n: 0.024 -- 2882\n",
      "ube: m: 0.042, f: 0.957, n: 0.001 -- 1217\n",
      "te: m: 0.027, f: 0.956, n: 0.016 -- 9432\n",
      "ze: m: 0.037, f: 0.953, n: 0.009 -- 2143\n",
      "ren: m: 0.043, f: 0.004, n: 0.953 -- 1508\n",
      "tor: m: 0.953, f: 0.001, n: 0.046 -- 2671\n",
      "rin: m: 0.015, f: 0.950, n: 0.035 -- 4321\n",
      "ment: m: 0.053, f: 0.000, n: 0.947 -- 1578\n",
      "uss: m: 0.940, f: 0.059, n: 0.001 -- 1310\n",
      "le: m: 0.026, f: 0.937, n: 0.037 -- 7343\n",
      "or: m: 0.928, f: 0.002, n: 0.071 -- 3558\n",
      "ling: m: 0.927, f: 0.008, n: 0.065 -- 1533\n",
      "ke: m: 0.061, f: 0.926, n: 0.013 -- 3445\n",
      "nge: m: 0.037, f: 0.925, n: 0.038 -- 1462\n",
      "sse: m: 0.042, f: 0.925, n: 0.034 -- 1369\n",
      "ase: m: 0.073, f: 0.922, n: 0.005 -- 1277\n",
      "hen: m: 0.078, f: 0.001, n: 0.921 -- 4841\n",
      "se: m: 0.047, f: 0.920, n: 0.033 -- 8673\n",
      "ger: m: 0.919, f: 0.002, n: 0.079 -- 3807\n",
      "e: m: 0.048, f: 0.917, n: 0.035 -- 80311\n",
      "aft: m: 0.081, f: 0.917, n: 0.002 -- 2449\n",
      "chen: m: 0.084, f: 0.001, n: 0.915 -- 4430\n",
      "re: m: 0.032, f: 0.915, n: 0.053 -- 2980\n",
      "ich: m: 0.914, f: 0.002, n: 0.084 -- 1773\n",
      "ist: m: 0.900, f: 0.097, n: 0.003 -- 1101\n",
      "f: m: 0.896, f: 0.006, n: 0.098 -- 5028\n",
      "lter: m: 0.894, f: 0.017, n: 0.089 -- 1627\n",
      "eich: m: 0.885, f: 0.002, n: 0.113 -- 1012\n",
      "ng: m: 0.093, f: 0.877, n: 0.030 -- 39108\n",
      "alter: m: 0.876, f: 0.001, n: 0.123 -- 1117\n",
      "all: m: 0.876, f: 0.016, n: 0.109 -- 1093\n",
      "eis: m: 0.875, f: 0.004, n: 0.122 -- 1086\n",
      "be: m: 0.038, f: 0.874, n: 0.088 -- 4175\n",
      "id: m: 0.128, f: 0.006, n: 0.866 -- 1437\n",
      "me: m: 0.107, f: 0.864, n: 0.028 -- 2080\n",
      "ss: m: 0.850, f: 0.043, n: 0.107 -- 2780\n",
      "fer: m: 0.850, f: 0.097, n: 0.053 -- 2475\n",
      "ber: m: 0.843, f: 0.030, n: 0.127 -- 1524\n",
      "ge: m: 0.094, f: 0.843, n: 0.063 -- 6437\n",
      "fe: m: 0.148, f: 0.839, n: 0.013 -- 1493\n",
      "b: m: 0.829, f: 0.009, n: 0.162 -- 1895\n",
      "tin: m: 0.025, f: 0.829, n: 0.146 -- 1267\n",
      "nis: m: 0.025, f: 0.150, n: 0.824 -- 1178\n",
      "ur: m: 0.158, f: 0.821, n: 0.021 -- 3131\n",
      "kel: m: 0.818, f: 0.063, n: 0.119 -- 1132\n",
      "gel: m: 0.814, f: 0.131, n: 0.055 -- 2780\n",
      "de: m: 0.079, f: 0.814, n: 0.107 -- 4729\n",
      "ff: m: 0.798, f: 0.004, n: 0.198 -- 1346\n",
      "ode: m: 0.201, f: 0.797, n: 0.003 -- 1072\n",
      "er: m: 0.796, f: 0.080, n: 0.124 -- 40259\n",
      "et: m: 0.196, f: 0.016, n: 0.788 -- 1184\n",
      "nde: m: 0.040, f: 0.787, n: 0.173 -- 1674\n",
      "ld: m: 0.176, f: 0.038, n: 0.786 -- 1707\n",
      "on: m: 0.086, f: 0.781, n: 0.133 -- 11367\n",
      "nz: m: 0.212, f: 0.779, n: 0.009 -- 2299\n",
      "om: m: 0.224, f: 0.002, n: 0.773 -- 2201\n",
      "ei: m: 0.163, f: 0.773, n: 0.064 -- 1676\n",
      "der: m: 0.770, f: 0.121, n: 0.108 -- 2308\n",
      "est: m: 0.770, f: 0.027, n: 0.203 -- 1121\n",
      "g: m: 0.187, f: 0.769, n: 0.044 -- 44684\n",
      "men: m: 0.237, f: 0.000, n: 0.763 -- 1256\n",
      "amm: m: 0.237, f: 0.002, n: 0.760 -- 1336\n",
      "mm: m: 0.242, f: 0.003, n: 0.756 -- 1358\n",
      "ft: m: 0.116, f: 0.753, n: 0.131 -- 3778\n",
      "kt: m: 0.748, f: 0.002, n: 0.250 -- 2574\n",
      "sch: m: 0.743, f: 0.008, n: 0.249 -- 3047\n",
      "tz: m: 0.742, f: 0.005, n: 0.253 -- 3428\n",
      "rk: m: 0.228, f: 0.030, n: 0.742 -- 1026\n",
      "r: m: 0.735, f: 0.132, n: 0.133 -- 50531\n",
      "ck: m: 0.733, f: 0.005, n: 0.262 -- 3151\n",
      "st: m: 0.730, f: 0.191, n: 0.079 -- 4324\n",
      "ät: m: 0.001, f: 0.728, n: 0.272 -- 3076\n",
      "den: m: 0.712, f: 0.001, n: 0.287 -- 1095\n",
      "fen: m: 0.703, f: 0.002, n: 0.296 -- 1130\n",
      "en: m: 0.293, f: 0.005, n: 0.702 -- 18339\n",
      "ß: m: 0.701, f: 0.023, n: 0.276 -- 1149\n",
      "aus: m: 0.015, f: 0.693, n: 0.292 -- 1682\n",
      "h: m: 0.691, f: 0.035, n: 0.275 -- 9772\n",
      "um: m: 0.310, f: 0.002, n: 0.689 -- 5074\n",
      "us: m: 0.685, f: 0.194, n: 0.121 -- 6086\n",
      "an: m: 0.683, f: 0.065, n: 0.252 -- 2097\n",
      "isch: m: 0.683, f: 0.001, n: 0.316 -- 1803\n",
      "ch: m: 0.682, f: 0.029, n: 0.288 -- 8704\n",
      "ahl: m: 0.300, f: 0.679, n: 0.021 -- 1121\n",
      "ent: m: 0.322, f: 0.001, n: 0.677 -- 2387\n",
      "rom: m: 0.325, f: 0.000, n: 0.675 -- 1219\n",
      "al: m: 0.318, f: 0.014, n: 0.668 -- 2686\n",
      "m: m: 0.281, f: 0.054, n: 0.665 -- 13417\n",
      "ter: m: 0.661, f: 0.107, n: 0.232 -- 8396\n",
      "nd: m: 0.657, f: 0.100, n: 0.243 -- 4388\n",
      "uch: m: 0.655, f: 0.004, n: 0.341 -- 2323\n",
      "x: m: 0.642, f: 0.293, n: 0.065 -- 1156\n",
      "ing: m: 0.630, f: 0.009, n: 0.361 -- 3093\n",
      "ug: m: 0.629, f: 0.002, n: 0.370 -- 1747\n",
      "ut: m: 0.186, f: 0.185, n: 0.628 -- 1673\n",
      "mmer: m: 0.269, f: 0.627, n: 0.104 -- 1364\n",
      "ser: m: 0.619, f: 0.062, n: 0.319 -- 1879\n",
      "it: m: 0.359, f: 0.616, n: 0.025 -- 13549\n",
      "il: m: 0.367, f: 0.018, n: 0.615 -- 1620\n",
      "and: m: 0.606, f: 0.120, n: 0.274 -- 3146\n",
      "in: m: 0.148, f: 0.605, n: 0.246 -- 10385\n",
      "ken: m: 0.405, f: 0.002, n: 0.593 -- 1012\n",
      "a: m: 0.135, f: 0.590, n: 0.275 -- 4954\n",
      "bel: m: 0.587, f: 0.199, n: 0.213 -- 1059\n",
      "s: m: 0.579, f: 0.181, n: 0.240 -- 16846\n",
      "tt: m: 0.392, f: 0.034, n: 0.574 -- 2174\n",
      "rn: m: 0.561, f: 0.009, n: 0.430 -- 1504\n",
      "rt: m: 0.560, f: 0.310, n: 0.130 -- 2920\n",
      "o: m: 0.366, f: 0.076, n: 0.558 -- 2819\n",
      "el: m: 0.550, f: 0.266, n: 0.184 -- 13304\n",
      "lt: m: 0.550, f: 0.300, n: 0.150 -- 1156\n",
      "ll: m: 0.548, f: 0.019, n: 0.432 -- 2197\n",
      "sser: m: 0.546, f: 0.001, n: 0.453 -- 1313\n",
      "au: m: 0.538, f: 0.209, n: 0.253 -- 1431\n",
      "anz: m: 0.461, f: 0.537, n: 0.002 -- 1002\n",
      "gen: m: 0.533, f: 0.008, n: 0.460 -- 1791\n",
      "nt: m: 0.447, f: 0.021, n: 0.532 -- 3195\n",
      "u: m: 0.528, f: 0.184, n: 0.288 -- 1940\n",
      "ier: m: 0.382, f: 0.091, n: 0.527 -- 1432\n",
      "at: m: 0.439, f: 0.035, n: 0.527 -- 2985\n",
      "nk: m: 0.527, f: 0.262, n: 0.211 -- 1050\n",
      "ein: m: 0.515, f: 0.004, n: 0.482 -- 1823\n",
      "rm: m: 0.509, f: 0.459, n: 0.032 -- 1424\n",
      "tter: m: 0.199, f: 0.506, n: 0.295 -- 1143\n",
      "ten: m: 0.486, f: 0.010, n: 0.504 -- 1688\n",
      "p: m: 0.472, f: 0.029, n: 0.499 -- 1783\n",
      "z: m: 0.496, f: 0.282, n: 0.223 -- 7501\n",
      "sel: m: 0.492, f: 0.466, n: 0.042 -- 1840\n",
      "ster: m: 0.420, f: 0.090, n: 0.490 -- 1855\n",
      "ar: m: 0.487, f: 0.068, n: 0.445 -- 1197\n",
      "d: m: 0.450, f: 0.065, n: 0.485 -- 9829\n",
      "l: m: 0.474, f: 0.188, n: 0.338 -- 23600\n",
      "i: m: 0.452, f: 0.398, n: 0.150 -- 3744\n",
      "mer: m: 0.451, f: 0.424, n: 0.125 -- 2028\n",
      "del: m: 0.427, f: 0.439, n: 0.134 -- 1171\n",
      "hl: m: 0.418, f: 0.439, n: 0.144 -- 1748\n",
      "ht: m: 0.253, f: 0.424, n: 0.324 -- 3972\n",
      "cht: m: 0.231, f: 0.424, n: 0.345 -- 3701\n",
      "hr: m: 0.161, f: 0.419, n: 0.420 -- 1522\n",
      "icht: m: 0.228, f: 0.417, n: 0.356 -- 1848\n",
      "tel: m: 0.412, f: 0.183, n: 0.405 -- 1914\n",
      "n: m: 0.251, f: 0.339, n: 0.410 -- 46552\n",
      "hn: m: 0.410, f: 0.330, n: 0.260 -- 1030\n",
      "k: m: 0.380, f: 0.405, n: 0.214 -- 9548\n",
      "t: m: 0.379, f: 0.369, n: 0.252 -- 48869\n",
      "is: m: 0.303, f: 0.373, n: 0.325 -- 3894\n"
     ]
    }
   ],
   "source": [
    "postfix_distrib = {}\n",
    "for postfix in frequent_postfixes:\n",
    "    tmp = data[data[f'postfix_{len(postfix)}'] == postfix]\n",
    "    total = tmp.shape[0]\n",
    "    \n",
    "    masc_cnt = tmp['m'].sum() / total\n",
    "    fem_cnt = tmp['f'].sum() / total\n",
    "    neut_cnt = tmp['n'].sum() / total\n",
    "\n",
    "    mx = max(masc_cnt, fem_cnt, neut_cnt)\n",
    "    postfix_distrib[postfix] = {'m': masc_cnt, 'f': fem_cnt, 'n': neut_cnt, 'total': total, 'max': mx}\n",
    "\n",
    "postfix_distrib = {k: v for k, v in sorted(postfix_distrib.items(), key=lambda item: -item[1]['max'])}\n",
    "for postfix, distrib in postfix_distrib.items():\n",
    "    print(f'{postfix}: m: {distrib[\"m\"]:.3f}, f: {distrib[\"f\"]:.3f}, n: {distrib[\"n\"]:.3f} -- {distrib[\"total\"]}')"
   ]
  },
  {
   "cell_type": "code",
   "execution_count": 10,
   "metadata": {},
   "outputs": [
    {
     "data": {
      "text/plain": [
       "Index(['word', 'f', 'm', 'n', 'word_len', 'postfix_ß', 'postfix_x',\n",
       "       'postfix_p', 'postfix_b', 'postfix_u',\n",
       "       ...\n",
       "       'postfix_htung', 'postfix_logie', 'postfix_chung', 'postfix_ystem',\n",
       "       'postfix_chaft', 'postfix_ktion', 'postfix_ismus', 'postfix_gkeit',\n",
       "       'postfix_ation', 'postfix_erung'],\n",
       "      dtype='object', length=243)"
      ]
     },
     "execution_count": 10,
     "metadata": {},
     "output_type": "execute_result"
    }
   ],
   "source": [
    "for postfix in frequent_postfixes:\n",
    "    data[f'postfix_{postfix}'] = data[f'postfix_{len(postfix)}'].apply(lambda post: 1 if post == postfix else 0)\n",
    "\n",
    "data.drop(columns=[f'postfix_{i+1}' for i in range(5)], inplace=True)\n",
    "data.columns"
   ]
  },
  {
   "cell_type": "markdown",
   "metadata": {},
   "source": [
    "<h4>finalization</h4>"
   ]
  },
  {
   "cell_type": "markdown",
   "metadata": {},
   "source": [
    "now let's prepare data for machine learning. here i extract gender classes into separated array and remove them and 'word' from primary array"
   ]
  },
  {
   "cell_type": "code",
   "execution_count": 11,
   "metadata": {},
   "outputs": [
    {
     "data": {
      "text/plain": [
       "((387514, 239), (387514, 3))"
      ]
     },
     "execution_count": 11,
     "metadata": {},
     "output_type": "execute_result"
    }
   ],
   "source": [
    "target = data[['f', 'm', 'n']]\n",
    "data.drop(columns=['word', 'f', 'm', 'n'], inplace=True)\n",
    "\n",
    "data.shape, target.shape"
   ]
  },
  {
   "cell_type": "markdown",
   "metadata": {},
   "source": [
    "it seems like there are a lot of correlated features so let's use PCA to remove the correlation"
   ]
  },
  {
   "cell_type": "code",
   "execution_count": 12,
   "metadata": {},
   "outputs": [
    {
     "data": {
      "text/plain": [
       "(387514, 136)"
      ]
     },
     "execution_count": 12,
     "metadata": {},
     "output_type": "execute_result"
    }
   ],
   "source": [
    "from sklearn.decomposition import PCA\n",
    "\n",
    "pca = PCA(n_components=0.995, random_state=289)\n",
    "pca.fit(data)\n",
    "\n",
    "data_pca = pca.transform(data)\n",
    "data_pca.shape"
   ]
  },
  {
   "cell_type": "markdown",
   "metadata": {},
   "source": [
    "<h3>modelling</h3>"
   ]
  },
  {
   "cell_type": "code",
   "execution_count": 13,
   "metadata": {},
   "outputs": [
    {
     "name": "stderr",
     "output_type": "stream",
     "text": [
      "Using TensorFlow backend.\n"
     ]
    },
    {
     "name": "stdout",
     "output_type": "stream",
     "text": [
      "\n",
      "Epoch 00010: ReduceLROnPlateau reducing learning rate to 0.00010000000474974513.\n",
      "\n",
      "Epoch 00016: ReduceLROnPlateau reducing learning rate to 1.0000000474974514e-05.\n",
      "\n",
      "Epoch 00019: ReduceLROnPlateau reducing learning rate to 1.0000000656873453e-06.\n",
      "\n",
      "Epoch 00021: ReduceLROnPlateau reducing learning rate to 1.0000001111620805e-07.\n",
      "\n",
      "Epoch 00023: ReduceLROnPlateau reducing learning rate to 1.000000082740371e-08.\n",
      "Restoring model weights from the end of the best epoch\n",
      "Epoch 00024: early stopping\n"
     ]
    }
   ],
   "source": [
    "from sklearn.model_selection import train_test_split\n",
    "from sklearn.preprocessing import StandardScaler \n",
    "from keras.models import Sequential\n",
    "from keras.layers import Dense, Dropout\n",
    "from keras.callbacks import ReduceLROnPlateau, EarlyStopping\n",
    "\n",
    "data_s = StandardScaler().fit_transform(data)\n",
    "\n",
    "model = Sequential()\n",
    "model.add(Dense(32, activation='relu', input_shape=(data.shape[1], )))\n",
    "model.add(Dropout(0.5))\n",
    "model.add(Dense(16, activation='relu'))\n",
    "model.add(Dropout(0.5))\n",
    "model.add(Dense(3, activation='softmax'))\n",
    "\n",
    "model.compile(\n",
    "    loss='categorical_crossentropy',\n",
    "    optimizer='adam',\n",
    "    metrics=['acc']\n",
    ")\n",
    "\n",
    "x_train, x_test, y_train, y_test = train_test_split(data_s, target, test_size=0.2, random_state=289)\n",
    "\n",
    "rlr = ReduceLROnPlateau(patience=2, verbose=1)\n",
    "es = EarlyStopping(patience=5, verbose=1, restore_best_weights=True)\n",
    "\n",
    "history = model.fit(\n",
    "    x_train,\n",
    "    y_train,\n",
    "    epochs=30,\n",
    "    batch_size=64,\n",
    "    verbose=0,\n",
    "    callbacks=[rlr, es],\n",
    "    validation_data=(x_test, y_test)\n",
    ")"
   ]
  },
  {
   "cell_type": "code",
   "execution_count": 14,
   "metadata": {},
   "outputs": [
    {
     "data": {
      "image/png": "[encoded data removed]",
      "text/plain": [
       "<Figure size 1440x432 with 2 Axes>"
      ]
     },
     "metadata": {
      "needs_background": "light"
     },
     "output_type": "display_data"
    }
   ],
   "source": [
    "h = history.history\n",
    "epochs = range(len(h['loss']))\n",
    "\n",
    "plt.figure(1, figsize=(20, 6))\n",
    "\n",
    "plt.subplot(121)\n",
    "plt.xlabel('epochs')\n",
    "plt.ylabel('loss')\n",
    "plt.plot(epochs, h['loss'], label='train')\n",
    "plt.plot(epochs, h['val_loss'], label='val')\n",
    "plt.legend()\n",
    "\n",
    "plt.subplot(122)\n",
    "plt.xlabel('epochs')\n",
    "plt.ylabel('accuracy')\n",
    "plt.plot(h[f'acc'], label='train')\n",
    "plt.plot(h[f'val_acc'], label='val')\n",
    "plt.legend()\n",
    "\n",
    "plt.show()"
   ]
  },
  {
   "cell_type": "markdown",
   "metadata": {},
   "source": [
    "how you can see it is abailable to build a classifier with accuracy score ~0.8 that based only on postfixes and word lengths. i think this result is brilliant (for non-dictionary based solutions) due to stochastic nature or natural languages!"
   ]
  },
  {
   "cell_type": "markdown",
   "metadata": {},
   "source": [
    "<h2>conclusion</h2>\n",
    "\n",
    "*nb. this results are based on the dataset i used. i'm not sure if this dataset is representative or not. or it may have a lot of poorly used words like words of higher style or scientific terms*\n",
    "\n",
    "i found several postfixes that with high probability (or even with 1) are markers of only one gender. this is a short list of postfixes that have probability >0.95:\n",
    "\n",
    "**neutral:**\n",
    "* -ium (1)\n",
    "* -ramm (1)\n",
    "* -em (0.98)\n",
    "* -ren (0.95)\n",
    "\n",
    "**feminine:**\n",
    "* -tät (1)\n",
    "* -ung (0.99)\n",
    "* -tur (0.99)\n",
    "* -cke (0.99)\n",
    "* -ie (0.99)\n",
    "* -ose (0.99)\n",
    "* -ule (0.99)\n",
    "* -enz (0.98)\n",
    "* -pe (0.98)\n",
    "* -age (0.98\n",
    "* -ste (0.97)\n",
    "* -he (0.97)\n",
    "* -ion (0.96)\n",
    "* -lle (0.96)\n",
    "* -eit (0.96)\n",
    "* -haft (0.96)\n",
    "* -ik (0.96)\n",
    "* -ne (0.96)\n",
    "* -che (0.96)\n",
    "* -ube (0.96)\n",
    "* -te (0.96)\n",
    "* -ze (0.95)\n",
    "* -rin (0.95)\n",
    "\n",
    "**masculine:**\n",
    "* -satz (1)\n",
    "* -rer (1)\n",
    "* -aum (1)\n",
    "* -tand (1)\n",
    "* -atz (1)\n",
    "* -pf (1)\n",
    "* -ler (0.99)\n",
    "* -nger (0.99)\n",
    "* -her (0.99)\n",
    "* -mus (0.99)\n",
    "* -ker (0.99)\n",
    "* -ner (0.99)\n",
    "* -ag (0.98)\n",
    "* -ang (0.98)\n",
    "* -nder (0.96)\n",
    "* -tor (0.95)\n",
    "\n",
    "also for length of words up to 30 characters it is more possible to meet short masculine word and long feminine (but this is not a strong rule)\n",
    "\n",
    "<h3>to readers</h3>\n",
    "\n",
    "i would appreciate any suggestions or improvements from people familiar with german\n",
    "\n",
    "**i hope you liked this notebook and the results will be helpful for your language learning. good luck!**"
   ]
  }
 ],
 "metadata": {
  "kernelspec": {
   "display_name": "Python 3",
   "language": "python",
   "name": "python3"
  },
  "language_info": {
   "codemirror_mode": {
    "name": "ipython",
    "version": 3
   },
   "file_extension": ".py",
   "mimetype": "text/x-python",
   "name": "python",
   "nbconvert_exporter": "python",
   "pygments_lexer": "ipython3",
   "version": "3.6.6"
  }
 },
 "nbformat": 4,
 "nbformat_minor": 4
}
